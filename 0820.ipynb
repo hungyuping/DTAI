{
 "cells": [
  {
   "cell_type": "code",
   "execution_count": 1,
   "metadata": {},
   "outputs": [
    {
     "name": "stdout",
     "output_type": "stream",
     "text": [
      "list[-5]\n"
     ]
    }
   ],
   "source": [
    "print(list[-5])"
   ]
  },
  {
   "cell_type": "code",
   "execution_count": 2,
   "metadata": {},
   "outputs": [],
   "source": [
    "list5 = [[\"tome\",1234]],[[\"mary\",\"abcd\"]],[\"davod\",\"5678\"]"
   ]
  },
  {
   "cell_type": "code",
   "execution_count": 3,
   "metadata": {},
   "outputs": [
    {
     "name": "stdout",
     "output_type": "stream",
     "text": [
      "[['mary', 'abcd']]\n"
     ]
    }
   ],
   "source": [
    "print(list5[1])"
   ]
  },
  {
   "cell_type": "code",
   "execution_count": 4,
   "metadata": {},
   "outputs": [
    {
     "name": "stdout",
     "output_type": "stream",
     "text": [
      "[['tome', 1234]]\n"
     ]
    }
   ],
   "source": [
    "print(list5[0])"
   ]
  },
  {
   "cell_type": "code",
   "execution_count": 8,
   "metadata": {},
   "outputs": [
    {
     "name": "stdout",
     "output_type": "stream",
     "text": [
      "[['mary', 'abcd']]\n"
     ]
    }
   ],
   "source": [
    "print(list5[1])"
   ]
  },
  {
   "cell_type": "code",
   "execution_count": 14,
   "metadata": {},
   "outputs": [
    {
     "name": "stdout",
     "output_type": "stream",
     "text": [
      "['國文成績:', 85]\n",
      "['數學成績:', 79]\n",
      "['英文成績:', 93]\n"
     ]
    }
   ],
   "source": [
    "a = int(input(\"國文成績\"))\n",
    "b = int(input(\"數學成績\"))\n",
    "c = int(input(\"英文成績\"))\n",
    "\n",
    "list9 = ['國文成績:',a],['數學成績:',b],['英文成績:',c]\n",
    "print(list9[0])\n",
    "print(list9[1])\n",
    "print(list9[2])"
   ]
  },
  {
   "cell_type": "code",
   "execution_count": 15,
   "metadata": {},
   "outputs": [
    {
     "name": "stdout",
     "output_type": "stream",
     "text": [
      "香蕉,蘋果,橘子,"
     ]
    }
   ],
   "source": [
    "list1 = (\"香蕉\",\"蘋果\",\"橘子\")\n",
    "for s in list1:\n",
    "    print(s,end=\",\")"
   ]
  },
  {
   "cell_type": "code",
   "execution_count": null,
   "metadata": {},
   "outputs": [],
   "source": [
    "list7 = int(123),str(\"apple\"),"
   ]
  },
  {
   "cell_type": "code",
   "execution_count": 24,
   "metadata": {},
   "outputs": [
    {
     "name": "stdout",
     "output_type": "stream",
     "text": [
      "tom (['國文成績:', 85], ['數學成績:', 79], ['英文成績:', 93])\n",
      "mary\\tony (['國文成績:', 85], ['數學成績:', 79], ['英文成績:', 93])\n",
      "wad (['國文成績:', 85], ['數學成績:', 79], ['英文成績:', 93])\n",
      "tom (['國文成績:', 85], ['數學成績:', 79], ['英文成績:', 93])\n",
      "mary\\tony (['國文成績:', 85], ['數學成績:', 79], ['英文成績:', 93])\n",
      "wad (['國文成績:', 85], ['數學成績:', 79], ['英文成績:', 93])\n",
      "tom (['國文成績:', 85], ['數學成績:', 79], ['英文成績:', 93])\n",
      "mary\\tony (['國文成績:', 85], ['數學成績:', 79], ['英文成績:', 93])\n",
      "wad (['國文成績:', 85], ['數學成績:', 79], ['英文成績:', 93])\n"
     ]
    }
   ],
   "source": [
    "a = input()\n",
    "b = input()\n",
    "c = input()\n",
    "list1 = ['國文成績:', 85],['數學成績:', 79],['英文成績:', 93]\n",
    "for i in (list1):\n",
    "    print(a,list1)\n",
    "    print(b,list1)\n",
    "    print(c,list1)"
   ]
  },
  {
   "cell_type": "markdown",
   "metadata": {},
   "source": [
    "panda 15 30 32"
   ]
  },
  {
   "cell_type": "code",
   "execution_count": 22,
   "metadata": {},
   "outputs": [
    {
     "name": "stdout",
     "output_type": "stream",
     "text": [
      "n\n"
     ]
    }
   ],
   "source": [
    "list8 = (input())\n",
    "print(list8)\n",
    "\n",
    "\n"
   ]
  },
  {
   "cell_type": "code",
   "execution_count": 28,
   "metadata": {},
   "outputs": [
    {
     "name": "stdout",
     "output_type": "stream",
     "text": [
      "150 120 90 60 30\n"
     ]
    }
   ],
   "source": [
    "user_input = input()\n",
    "string_list = user_input.split()\n",
    "reversed_list = string_list[::-1]\n",
    "print(\" \".join(reversed_list))\n"
   ]
  },
  {
   "cell_type": "code",
   "execution_count": 33,
   "metadata": {},
   "outputs": [
    {
     "name": "stdout",
     "output_type": "stream",
     "text": [
      "1,5,9,13,17,21,25,29,33,37,41,45,49,53,57,61,65,69,73,77,81,85,89,93,97,101,105,109,113,117,121,125,129,133,137,141,145,149,153,157,161,165,169,173,177,181,185,189,193,197\n"
     ]
    }
   ],
   "source": [
    "user_input = input()\n",
    "start, stop, step = map(int, user_input.split())\n",
    "number_list = list(range(start, stop, step))\n",
    "output = \",\".join(map(str, number_list))\n",
    "print(output)\n"
   ]
  },
  {
   "cell_type": "code",
   "execution_count": null,
   "metadata": {},
   "outputs": [],
   "source": []
  }
 ],
 "metadata": {
  "kernelspec": {
   "display_name": "base",
   "language": "python",
   "name": "python3"
  },
  "language_info": {
   "codemirror_mode": {
    "name": "ipython",
    "version": 3
   },
   "file_extension": ".py",
   "mimetype": "text/x-python",
   "name": "python",
   "nbconvert_exporter": "python",
   "pygments_lexer": "ipython3",
   "version": "3.11.7"
  }
 },
 "nbformat": 4,
 "nbformat_minor": 2
}
