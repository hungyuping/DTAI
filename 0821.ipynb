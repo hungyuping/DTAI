{
 "cells": [
  {
   "cell_type": "code",
   "execution_count": 8,
   "metadata": {},
   "outputs": [
    {
     "name": "stdout",
     "output_type": "stream",
     "text": [
      "37.0\n"
     ]
    }
   ],
   "source": [
    "dividend = float(input())\n",
    "divisor = float(input())\n",
    "remainder = dividend % divisor\n",
    "print(remainder)\n",
    "\n"
   ]
  },
  {
   "cell_type": "code",
   "execution_count": 11,
   "metadata": {},
   "outputs": [
    {
     "name": "stdout",
     "output_type": "stream",
     "text": [
      "153,370,371,407,\n"
     ]
    }
   ],
   "source": [
    "start, end = map(int, input().split())\n",
    "narcissistic_numbers = []\n",
    "for num in range(start, end + 1):\n",
    "    str_num = str(num) \n",
    "    sum_of_cubes = sum(int(digit) ** 3 for digit in str_num)\n",
    "    if sum_of_cubes == num:\n",
    "        narcissistic_numbers.append(str(num) + \",\")\n",
    "print(\"\".join(narcissistic_numbers))\n"
   ]
  },
  {
   "cell_type": "code",
   "execution_count": 12,
   "metadata": {},
   "outputs": [
    {
     "name": "stdout",
     "output_type": "stream",
     "text": [
      "t=9.0 b=14.0 h=8.2 area=94.3\n"
     ]
    }
   ],
   "source": [
    "top_base = float(input())\n",
    "bottom_base = float(input())\n",
    "height = float(input())\n",
    "area = (top_base + bottom_base) * height / 2\n",
    "print(f\"t={top_base} b={bottom_base} h={height} area={area}\")\n"
   ]
  },
  {
   "cell_type": "code",
   "execution_count": 13,
   "metadata": {},
   "outputs": [
    {
     "name": "stdout",
     "output_type": "stream",
     "text": [
      "park time:1h:9m\n",
      "pay:60 money\n"
     ]
    }
   ],
   "source": [
    "minutes = int(input())\n",
    "hours = minutes // 60\n",
    "remaining_minutes = minutes % 60\n",
    "if remaining_minutes > 0:\n",
    "    total_hours = hours + 1\n",
    "else:\n",
    "    total_hours = hours\n",
    "total_fee = total_hours * 40 if total_hours <= hours else hours * 40 + 20\n",
    "total_fee = min(total_fee, 300)\n",
    "print(f\"park time:{hours}h:{remaining_minutes}m\")\n",
    "print(f\"pay:{total_fee} money\")\n"
   ]
  },
  {
   "cell_type": "code",
   "execution_count": 14,
   "metadata": {},
   "outputs": [
    {
     "name": "stdout",
     "output_type": "stream",
     "text": [
      "[11, 18, 25, 32, 39, 46, 53, 60, 67, 74, 81, 88, 95]\n"
     ]
    }
   ],
   "source": [
    "start, end, step = map(int, input().split())\n",
    "result_list = list(range(start, end, step))\n",
    "print(result_list)\n"
   ]
  },
  {
   "cell_type": "code",
   "execution_count": null,
   "metadata": {},
   "outputs": [],
   "source": [
    "user_input = input()\n",
    "start, stop, step = map(int, user_input.split())\n",
    "number_list = list(range(start, stop, step))\n",
    "output = \",\".join(map(str, number_list))\n",
    "print(output)\n"
   ]
  },
  {
   "cell_type": "code",
   "execution_count": null,
   "metadata": {},
   "outputs": [],
   "source": [
    "year = int(input())\n",
    "if (year % 4 == 0 and year % 100 != 0) or (year % 400 == 0):\n",
    "    result = \"leap year\"\n",
    "else:\n",
    "    result = \"common year\"\n",
    "print(f\"{year} is {result}\")\n"
   ]
  },
  {
   "cell_type": "code",
   "execution_count": null,
   "metadata": {},
   "outputs": [],
   "source": [
    "score = int(input())\n",
    "if score > 100 or score < 0:\n",
    "    print(f\"{score} is error\")\n",
    "elif score >= 90:\n",
    "    print(f\"{score} is A\")\n",
    "elif score >= 80:\n",
    "    print(f\"{score} is B\")\n",
    "elif score >= 70:\n",
    "    print(f\"{score} is C\")\n",
    "elif score >= 60:\n",
    "    print(f\"{score} is D\")\n",
    "else:\n",
    "    print(f\"{score} is E\")\n"
   ]
  },
  {
   "cell_type": "code",
   "execution_count": null,
   "metadata": {},
   "outputs": [],
   "source": [
    "input_str = input()\n",
    "start, stop, step = map(int, input_str.split())\n",
    "numbers = range(start, stop, step)\n",
    "output_str = ','.join(map(str, numbers))\n",
    "print(output_str)\n"
   ]
  },
  {
   "cell_type": "code",
   "execution_count": null,
   "metadata": {},
   "outputs": [],
   "source": [
    "n = int(input())\n",
    "for i in range(1, n + 1):\n",
    "    print('*' * i)\n"
   ]
  },
  {
   "cell_type": "code",
   "execution_count": null,
   "metadata": {},
   "outputs": [],
   "source": [
    "def print_multiplication_tables(start_number):\n",
    "    for num in range(start_number, 10):\n",
    "        row = \"\"\n",
    "        for i in range(1, 10):\n",
    "            row += \"%d*%d=%d \" % (num, i, num * i)\n",
    "        print(row.strip())  # 去掉行末多餘的空格\n",
    "\n",
    "def main():\n",
    "    try:\n",
    "        user_input = int(input(\"請輸入一個數字: \"))\n",
    "        print_multiplication_tables(user_input)\n",
    "    except ValueError:\n",
    "        print(\"請輸入有效的數字。\")\n",
    "\n",
    "if __name__ == \"__main__\":\n",
    "    main()"
   ]
  }
 ],
 "metadata": {
  "kernelspec": {
   "display_name": "base",
   "language": "python",
   "name": "python3"
  },
  "language_info": {
   "codemirror_mode": {
    "name": "ipython",
    "version": 3
   },
   "file_extension": ".py",
   "mimetype": "text/x-python",
   "name": "python",
   "nbconvert_exporter": "python",
   "pygments_lexer": "ipython3",
   "version": "3.11.7"
  }
 },
 "nbformat": 4,
 "nbformat_minor": 2
}
