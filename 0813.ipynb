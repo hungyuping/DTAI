{
 "cells": [
  {
   "cell_type": "code",
   "execution_count": null,
   "metadata": {},
   "outputs": [],
   "source": [
    "if (score<60):\n",
    "    grade = \"及格\"\n",
    "sum = sum + score\n",
    "    "
   ]
  },
  {
   "cell_type": "code",
   "execution_count": 3,
   "metadata": {},
   "outputs": [
    {
     "name": "stdout",
     "output_type": "stream",
     "text": [
      "密碼正確\n"
     ]
    }
   ],
   "source": [
    "密碼 = int(input(\"請輸入密碼\")) \n",
    "if 密碼 == 1234:\n",
    "    print(\"密碼正確\")"
   ]
  },
  {
   "cell_type": "code",
   "execution_count": 5,
   "metadata": {},
   "outputs": [],
   "source": [
    "密碼 = int(input(\"請輸入密碼\")) \n",
    "if 密碼 == 1234:\n",
    "    print(\"歡迎光臨\")"
   ]
  },
  {
   "cell_type": "code",
   "execution_count": 10,
   "metadata": {},
   "outputs": [
    {
     "name": "stdout",
     "output_type": "stream",
     "text": [
      "密碼正確\n"
     ]
    }
   ],
   "source": [
    "密碼 = int(input(\"請輸入密碼\")) \n",
    "if 密碼 == 1234:\n",
    "    print(\"密碼正確\")\n",
    "else:\n",
    "    print(\"密碼錯誤\")"
   ]
  },
  {
   "cell_type": "code",
   "execution_count": 15,
   "metadata": {},
   "outputs": [
    {
     "name": "stdout",
     "output_type": "stream",
     "text": [
      "你輸入的數字是奇數\n"
     ]
    }
   ],
   "source": [
    "變數 = int(input(\"請輸入一個整數\"))\n",
    "if 變數%2 == 0:\n",
    "    print(\"你輸入的數字為偶數\")\n",
    "else:\n",
    "    print(\"你輸入的數字是奇數\")\n"
   ]
  },
  {
   "cell_type": "code",
   "execution_count": 21,
   "metadata": {},
   "outputs": [
    {
     "name": "stdout",
     "output_type": "stream",
     "text": [
      "體溫略高!\n"
     ]
    }
   ],
   "source": [
    "體溫 = int(input(\"請輸入體溫\"))\n",
    "if 體溫>=37.5:\n",
    "    print(\"體溫過高!\")\n",
    "elif 37.5>體溫>36:\n",
    "    print(\"體溫略高!\")\n",
    "elif 37>體溫>33:\n",
    "    print(\"體溫正常!\")\n",
    "else:\n",
    "    print(\"體溫異常，請重新量測!\")\n"
   ]
  },
  {
   "cell_type": "code",
   "execution_count": 25,
   "metadata": {},
   "outputs": [
    {
     "name": "stdout",
     "output_type": "stream",
     "text": [
      "E\n"
     ]
    }
   ],
   "source": [
    "G = int(input(\"請輸入成績\"))\n",
    "if G>90:\n",
    "    print(\"A\")\n",
    "elif 89>G>79:\n",
    "    print(\"B\")\n",
    "elif 79>G>69:\n",
    "    print(\"C\")\n",
    "elif 69>G>59:\n",
    "    print(\"D\")\n",
    "else:\n",
    "    print(\"E\")\n"
   ]
  },
  {
   "cell_type": "code",
   "execution_count": 28,
   "metadata": {},
   "outputs": [
    {
     "name": "stdout",
     "output_type": "stream",
     "text": [
      "月份不在範圍內\n"
     ]
    }
   ],
   "source": [
    "s = int(input())\n",
    "if(9<s<13):\n",
    "    print(s,\"月是冬天\")\n",
    "elif(0<s<4):\n",
    "    print(s,\"月是春天\")\n",
    "elif(3<s<7):\n",
    "    print(s,\"月是夏天\")\n",
    "elif(6<s<10):\n",
    "    print(s,\"月是秋天\")\n",
    "else :\n",
    "    (0 >s or s>13)\n",
    "    print(\"月份不在範圍內\")"
   ]
  },
  {
   "cell_type": "code",
   "execution_count": 35,
   "metadata": {},
   "outputs": [
    {
     "name": "stdout",
     "output_type": "stream",
     "text": [
      "最終價格 540.0\n"
     ]
    }
   ],
   "source": [
    "M = int(input(\"請輸入購物車總額\"))\n",
    "if M>1000:\n",
    "    print(\"最終價格\",M-(M*0.2))\n",
    "elif 1001>M>499:\n",
    "    print(\"最終價格\",M-(M*0.1)) \n",
    "else:\n",
    "    print(M) "
   ]
  },
  {
   "cell_type": "code",
   "execution_count": 36,
   "metadata": {},
   "outputs": [
    {
     "name": "stdout",
     "output_type": "stream",
     "text": [
      "油量不足，建議加油\n"
     ]
    }
   ],
   "source": [
    "F = int(input(\"目前油量\"))\n",
    "if  F < 5:\n",
    "    print(\"需要立即加油！\")\n",
    "elif 4<F<10:\n",
    "    print(\"油量不足，建議加油\")\n",
    "elif F >10:\n",
    "    print(\"油量充足\")"
   ]
  },
  {
   "cell_type": "code",
   "execution_count": 38,
   "metadata": {},
   "outputs": [
    {
     "name": "stdout",
     "output_type": "stream",
     "text": [
      "手續費 0\n"
     ]
    }
   ],
   "source": [
    "A = int(input(\"轉帳金額\"))\n",
    "if A>10000:\n",
    "    print(\"手續費\",0)\n",
    "elif 10000>A>5000:\n",
    "    print(\"手續費\",50)\n",
    "elif 5000>A>1000:\n",
    "    print(\"手續費\",100)\n",
    "else:\n",
    "    print(\"手續費\",150)\n",
    "             "
   ]
  },
  {
   "cell_type": "code",
   "execution_count": null,
   "metadata": {},
   "outputs": [],
   "source": []
  }
 ],
 "metadata": {
  "kernelspec": {
   "display_name": "base",
   "language": "python",
   "name": "python3"
  },
  "language_info": {
   "codemirror_mode": {
    "name": "ipython",
    "version": 3
   },
   "file_extension": ".py",
   "mimetype": "text/x-python",
   "name": "python",
   "nbconvert_exporter": "python",
   "pygments_lexer": "ipython3",
   "version": "3.11.7"
  }
 },
 "nbformat": 4,
 "nbformat_minor": 2
}
